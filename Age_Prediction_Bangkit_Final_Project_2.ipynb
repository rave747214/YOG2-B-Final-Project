{
  "nbformat": 4,
  "nbformat_minor": 0,
  "metadata": {
    "colab": {
      "name": "Age Prediction - Bangkit Final Project 2.ipynb",
      "provenance": []
    },
    "kernelspec": {
      "name": "python3",
      "display_name": "Python 3"
    },
    "accelerator": "GPU"
  },
  "cells": [
    {
      "cell_type": "code",
      "metadata": {
        "id": "LnaLDthwdzgF",
        "colab_type": "code",
        "colab": {
          "base_uri": "https://localhost:8080/",
          "height": 125
        },
        "outputId": "077ce86a-087b-4b13-d6d7-43ece33cc9f1"
      },
      "source": [
        "from google.colab import drive\n",
        "drive.mount('/content/drive', force_remount=True)\n",
        "\n",
        "path='/content/drive/My Drive/data'"
      ],
      "execution_count": 1,
      "outputs": [
        {
          "output_type": "stream",
          "text": [
            "Go to this URL in a browser: https://accounts.google.com/o/oauth2/auth?client_id=947318989803-6bn6qk8qdgf4n4g3pfee6491hc0brc4i.apps.googleusercontent.com&redirect_uri=urn%3aietf%3awg%3aoauth%3a2.0%3aoob&response_type=code&scope=email%20https%3a%2f%2fwww.googleapis.com%2fauth%2fdocs.test%20https%3a%2f%2fwww.googleapis.com%2fauth%2fdrive%20https%3a%2f%2fwww.googleapis.com%2fauth%2fdrive.photos.readonly%20https%3a%2f%2fwww.googleapis.com%2fauth%2fpeopleapi.readonly\n",
            "\n",
            "Enter your authorization code:\n",
            "··········\n",
            "Mounted at /content/drive\n"
          ],
          "name": "stdout"
        }
      ]
    },
    {
      "cell_type": "code",
      "metadata": {
        "id": "wyHhHSCYfBlV",
        "colab_type": "code",
        "colab": {}
      },
      "source": [
        "# Modules for model creation\n",
        "import tensorflow as tf\n",
        "from tensorflow.keras.optimizers import RMSprop\n",
        "from tensorflow.keras.preprocessing.image import ImageDataGenerator"
      ],
      "execution_count": 0,
      "outputs": []
    },
    {
      "cell_type": "code",
      "metadata": {
        "id": "2L4PnUkDgoUp",
        "colab_type": "code",
        "colab": {
          "base_uri": "https://localhost:8080/",
          "height": 510
        },
        "outputId": "5acab3b2-ea74-4073-bca6-4ea3b3c407fe"
      },
      "source": [
        "# Create the model\n",
        "model = tf.keras.models.Sequential([\n",
        "    tf.keras.layers.Conv2D(16, (3, 3), activation='relu', input_shape=(200, 200, 3)),\n",
        "    tf.keras.layers.MaxPooling2D(2, 2),\n",
        "    tf.keras.layers.Conv2D(32, (3, 3), activation='relu'),\n",
        "    tf.keras.layers.MaxPooling2D(2, 2),\n",
        "    tf.keras.layers.Conv2D(64, (3, 3), activation='relu'),\n",
        "    tf.keras.layers.MaxPooling2D(2, 2),\n",
        "    tf.keras.layers.Dropout(0.05),\n",
        "    tf.keras.layers.Flatten(),\n",
        "    tf.keras.layers.Dense(512, activation='relu'),\n",
        "    tf.keras.layers.Dense(96, activation='softmax')\n",
        "])\n",
        "\n",
        "model.compile(optimizer='adam', loss='categorical_crossentropy', metrics=['accuracy'])\n",
        "model.summary()"
      ],
      "execution_count": 3,
      "outputs": [
        {
          "output_type": "stream",
          "text": [
            "Model: \"sequential\"\n",
            "_________________________________________________________________\n",
            "Layer (type)                 Output Shape              Param #   \n",
            "=================================================================\n",
            "conv2d (Conv2D)              (None, 198, 198, 16)      448       \n",
            "_________________________________________________________________\n",
            "max_pooling2d (MaxPooling2D) (None, 99, 99, 16)        0         \n",
            "_________________________________________________________________\n",
            "conv2d_1 (Conv2D)            (None, 97, 97, 32)        4640      \n",
            "_________________________________________________________________\n",
            "max_pooling2d_1 (MaxPooling2 (None, 48, 48, 32)        0         \n",
            "_________________________________________________________________\n",
            "conv2d_2 (Conv2D)            (None, 46, 46, 64)        18496     \n",
            "_________________________________________________________________\n",
            "max_pooling2d_2 (MaxPooling2 (None, 23, 23, 64)        0         \n",
            "_________________________________________________________________\n",
            "dropout (Dropout)            (None, 23, 23, 64)        0         \n",
            "_________________________________________________________________\n",
            "flatten (Flatten)            (None, 33856)             0         \n",
            "_________________________________________________________________\n",
            "dense (Dense)                (None, 512)               17334784  \n",
            "_________________________________________________________________\n",
            "dense_1 (Dense)              (None, 96)                49248     \n",
            "=================================================================\n",
            "Total params: 17,407,616\n",
            "Trainable params: 17,407,616\n",
            "Non-trainable params: 0\n",
            "_________________________________________________________________\n"
          ],
          "name": "stdout"
        }
      ]
    },
    {
      "cell_type": "code",
      "metadata": {
        "id": "Ok0ueIP8ixeX",
        "colab_type": "code",
        "colab": {}
      },
      "source": [
        "import os\n",
        "import numpy as np\n",
        "import pandas as pd\n",
        "import matplotlib.image  as mpimg\n",
        "import matplotlib.pyplot as plt"
      ],
      "execution_count": 0,
      "outputs": []
    },
    {
      "cell_type": "code",
      "metadata": {
        "id": "H61F_K1DkGUR",
        "colab_type": "code",
        "colab": {
          "base_uri": "https://localhost:8080/",
          "height": 34
        },
        "outputId": "80a42ae3-975b-46ab-dc5f-c9b7fac05491"
      },
      "source": [
        "os.chdir(\"/content/drive/My Drive/data\")\n",
        "!ls"
      ],
      "execution_count": 8,
      "outputs": [
        {
          "output_type": "stream",
          "text": [
            "train  validation\n"
          ],
          "name": "stdout"
        }
      ]
    },
    {
      "cell_type": "code",
      "metadata": {
        "id": "10GsO05WiWrN",
        "colab_type": "code",
        "colab": {
          "base_uri": "https://localhost:8080/",
          "height": 52
        },
        "outputId": "3b9edc28-9ad0-4a00-998a-bfce46d6ef60"
      },
      "source": [
        "# Label generator\n",
        "TRAINING_DIR = os.path.join(path,'train')\n",
        "train_datagen = ImageDataGenerator(rescale=1./255,\n",
        "                                   shear_range=0.1)\n",
        "train_generator = train_datagen.flow_from_directory(TRAINING_DIR,\n",
        "                                                    batch_size=50,\n",
        "                                                    class_mode='categorical',\n",
        "                                                    target_size=(200, 200))\n",
        "\n",
        "VALIDATION_DIR = os.path.join(path,'validation')\n",
        "validation_datagen = ImageDataGenerator(rescale=1./255)\n",
        "validation_generator = validation_datagen.flow_from_directory(VALIDATION_DIR,\n",
        "                                                              batch_size=50,\n",
        "                                                              class_mode='categorical',\n",
        "                                                              target_size=(200, 200))"
      ],
      "execution_count": 5,
      "outputs": [
        {
          "output_type": "stream",
          "text": [
            "Found 4894 images belonging to 96 classes.\n",
            "Found 4899 images belonging to 96 classes.\n"
          ],
          "name": "stdout"
        }
      ]
    },
    {
      "cell_type": "code",
      "metadata": {
        "id": "2p3IgVwikoAM",
        "colab_type": "code",
        "colab": {
          "base_uri": "https://localhost:8080/",
          "height": 721
        },
        "outputId": "57a7d718-f801-4c17-d7a8-945828485dd4"
      },
      "source": [
        "# Fit the model\n",
        "history = model.fit(train_generator,\n",
        "                              epochs=20,\n",
        "                              verbose=1,\n",
        "                              validation_data=validation_generator)"
      ],
      "execution_count": 6,
      "outputs": [
        {
          "output_type": "stream",
          "text": [
            "Epoch 1/20\n",
            "98/98 [==============================] - 2548s 26s/step - loss: 3.9546 - accuracy: 0.1287 - val_loss: 3.6846 - val_accuracy: 0.1390\n",
            "Epoch 2/20\n",
            "98/98 [==============================] - 63s 646ms/step - loss: 3.3750 - accuracy: 0.1845 - val_loss: 3.4928 - val_accuracy: 0.1564\n",
            "Epoch 3/20\n",
            "98/98 [==============================] - 63s 642ms/step - loss: 2.8214 - accuracy: 0.2803 - val_loss: 3.5795 - val_accuracy: 0.1513\n",
            "Epoch 4/20\n",
            "98/98 [==============================] - 63s 643ms/step - loss: 2.0397 - accuracy: 0.4579 - val_loss: 3.9265 - val_accuracy: 0.1600\n",
            "Epoch 5/20\n",
            "98/98 [==============================] - 63s 647ms/step - loss: 1.1874 - accuracy: 0.6804 - val_loss: 4.8785 - val_accuracy: 0.1511\n",
            "Epoch 6/20\n",
            "98/98 [==============================] - 63s 648ms/step - loss: 0.5873 - accuracy: 0.8470 - val_loss: 5.8763 - val_accuracy: 0.1484\n",
            "Epoch 7/20\n",
            "98/98 [==============================] - 63s 643ms/step - loss: 0.3233 - accuracy: 0.9350 - val_loss: 6.6841 - val_accuracy: 0.1568\n",
            "Epoch 8/20\n",
            "98/98 [==============================] - 63s 643ms/step - loss: 0.2291 - accuracy: 0.9620 - val_loss: 6.2068 - val_accuracy: 0.1437\n",
            "Epoch 9/20\n",
            "98/98 [==============================] - 63s 645ms/step - loss: 0.1972 - accuracy: 0.9718 - val_loss: 7.0764 - val_accuracy: 0.1506\n",
            "Epoch 10/20\n",
            "98/98 [==============================] - 64s 653ms/step - loss: 0.1520 - accuracy: 0.9740 - val_loss: 6.2742 - val_accuracy: 0.1511\n",
            "Epoch 11/20\n",
            "98/98 [==============================] - 63s 646ms/step - loss: 0.1274 - accuracy: 0.9839 - val_loss: 6.4219 - val_accuracy: 0.1553\n",
            "Epoch 12/20\n",
            "98/98 [==============================] - 63s 643ms/step - loss: 0.1130 - accuracy: 0.9847 - val_loss: 6.1251 - val_accuracy: 0.1445\n",
            "Epoch 13/20\n",
            "98/98 [==============================] - 63s 644ms/step - loss: 0.1052 - accuracy: 0.9849 - val_loss: 6.1181 - val_accuracy: 0.1508\n",
            "Epoch 14/20\n",
            "98/98 [==============================] - 63s 645ms/step - loss: 0.1018 - accuracy: 0.9834 - val_loss: 6.0945 - val_accuracy: 0.1488\n",
            "Epoch 15/20\n",
            "98/98 [==============================] - 64s 653ms/step - loss: 0.0859 - accuracy: 0.9843 - val_loss: 6.1077 - val_accuracy: 0.1429\n",
            "Epoch 16/20\n",
            "98/98 [==============================] - 63s 644ms/step - loss: 0.0777 - accuracy: 0.9855 - val_loss: 6.3284 - val_accuracy: 0.1531\n",
            "Epoch 17/20\n",
            "98/98 [==============================] - 63s 643ms/step - loss: 0.0725 - accuracy: 0.9875 - val_loss: 6.2872 - val_accuracy: 0.1570\n",
            "Epoch 18/20\n",
            "98/98 [==============================] - 63s 645ms/step - loss: 0.0669 - accuracy: 0.9861 - val_loss: 6.2567 - val_accuracy: 0.1513\n",
            "Epoch 19/20\n",
            "98/98 [==============================] - 63s 645ms/step - loss: 0.0765 - accuracy: 0.9861 - val_loss: 6.3548 - val_accuracy: 0.1421\n",
            "Epoch 20/20\n",
            "98/98 [==============================] - 64s 649ms/step - loss: 0.0612 - accuracy: 0.9869 - val_loss: 6.3657 - val_accuracy: 0.1462\n"
          ],
          "name": "stdout"
        }
      ]
    },
    {
      "cell_type": "code",
      "metadata": {
        "id": "Lg3lAb6yrA6s",
        "colab_type": "code",
        "colab": {
          "base_uri": "https://localhost:8080/",
          "height": 238
        },
        "outputId": "5a870cee-948f-4dac-cfdc-79acbfa37353"
      },
      "source": [
        "%matplotlib inline\n",
        "\n",
        "#-----------------------------------------------------------\n",
        "# Retrieve a list of list results on training and test data\n",
        "# sets for each training epoch\n",
        "#-----------------------------------------------------------\n",
        "acc=history.history['accuracy']\n",
        "val_acc=history.history['val_accuracy']\n",
        "loss=history.history['loss']\n",
        "val_loss=history.history['val_loss']\n",
        "\n",
        "epochs=range(len(acc)) # Get number of epochs\n",
        "\n",
        "#------------------------------------------------\n",
        "# Plot training and validation accuracy per epoch\n",
        "#------------------------------------------------\n",
        "plt.plot(epochs, acc, 'r', label = 'Training accuracy')\n",
        "plt.plot(epochs, val_acc, 'b', label ='Validation accuracy')\n",
        "plt.title('Training and validation accuracy')\n",
        "plt.legend()\n",
        "plt.figure()\n",
        "\n",
        "#------------------------------------------------\n",
        "# Plot training and validation loss per epoch\n",
        "#------------------------------------------------\n",
        "plt.plot(epochs, loss, 'r', label = 'Training loss')\n",
        "plt.plot(epochs, val_loss, 'b', label = 'Validation loss')\n",
        "plt.title('Training and validation loss')\n",
        "plt.legend()\n",
        "plt.figure()"
      ],
      "execution_count": 1,
      "outputs": [
        {
          "output_type": "error",
          "ename": "NameError",
          "evalue": "ignored",
          "traceback": [
            "\u001b[0;31m---------------------------------------------------------------------------\u001b[0m",
            "\u001b[0;31mNameError\u001b[0m                                 Traceback (most recent call last)",
            "\u001b[0;32m<ipython-input-1-e9a57e6ed501>\u001b[0m in \u001b[0;36m<module>\u001b[0;34m()\u001b[0m\n\u001b[1;32m      5\u001b[0m \u001b[0;31m# sets for each training epoch\u001b[0m\u001b[0;34m\u001b[0m\u001b[0;34m\u001b[0m\u001b[0;34m\u001b[0m\u001b[0m\n\u001b[1;32m      6\u001b[0m \u001b[0;31m#-----------------------------------------------------------\u001b[0m\u001b[0;34m\u001b[0m\u001b[0;34m\u001b[0m\u001b[0;34m\u001b[0m\u001b[0m\n\u001b[0;32m----> 7\u001b[0;31m \u001b[0macc\u001b[0m\u001b[0;34m=\u001b[0m\u001b[0mhistory\u001b[0m\u001b[0;34m.\u001b[0m\u001b[0mhistory\u001b[0m\u001b[0;34m[\u001b[0m\u001b[0;34m'accuracy'\u001b[0m\u001b[0;34m]\u001b[0m\u001b[0;34m\u001b[0m\u001b[0;34m\u001b[0m\u001b[0m\n\u001b[0m\u001b[1;32m      8\u001b[0m \u001b[0mval_acc\u001b[0m\u001b[0;34m=\u001b[0m\u001b[0mhistory\u001b[0m\u001b[0;34m.\u001b[0m\u001b[0mhistory\u001b[0m\u001b[0;34m[\u001b[0m\u001b[0;34m'val_accuracy'\u001b[0m\u001b[0;34m]\u001b[0m\u001b[0;34m\u001b[0m\u001b[0;34m\u001b[0m\u001b[0m\n\u001b[1;32m      9\u001b[0m \u001b[0mloss\u001b[0m\u001b[0;34m=\u001b[0m\u001b[0mhistory\u001b[0m\u001b[0;34m.\u001b[0m\u001b[0mhistory\u001b[0m\u001b[0;34m[\u001b[0m\u001b[0;34m'loss'\u001b[0m\u001b[0;34m]\u001b[0m\u001b[0;34m\u001b[0m\u001b[0;34m\u001b[0m\u001b[0m\n",
            "\u001b[0;31mNameError\u001b[0m: name 'history' is not defined"
          ]
        }
      ]
    }
  ]
}