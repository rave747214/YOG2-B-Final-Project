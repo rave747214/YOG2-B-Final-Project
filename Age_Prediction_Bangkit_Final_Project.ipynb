{
  "nbformat": 4,
  "nbformat_minor": 0,
  "metadata": {
    "colab": {
      "name": "Age Prediction - Bangkit Final Project",
      "provenance": [],
      "collapsed_sections": []
    },
    "kernelspec": {
      "name": "python3",
      "display_name": "Python 3"
    }
  },
  "cells": [
    {
      "cell_type": "code",
      "metadata": {
        "id": "CEpB1-D_Xs8d",
        "colab_type": "code",
        "colab": {}
      },
      "source": [
        "# Colab library to upload files to notebook\n",
        "from google.colab import files\n",
        "\n",
        "# Install Kaggle library\n",
        "!pip install -q kaggle"
      ],
      "execution_count": 0,
      "outputs": []
    },
    {
      "cell_type": "code",
      "metadata": {
        "id": "xp0R7WOtXuw2",
        "colab_type": "code",
        "outputId": "8b880a48-71a8-4c89-cd44-f40edcec64ac",
        "colab": {
          "resources": {
            "http://localhost:8080/nbextensions/google.colab/files.js": {
              "data": "Ly8gQ29weXJpZ2h0IDIwMTcgR29vZ2xlIExMQwovLwovLyBMaWNlbnNlZCB1bmRlciB0aGUgQXBhY2hlIExpY2Vuc2UsIFZlcnNpb24gMi4wICh0aGUgIkxpY2Vuc2UiKTsKLy8geW91IG1heSBub3QgdXNlIHRoaXMgZmlsZSBleGNlcHQgaW4gY29tcGxpYW5jZSB3aXRoIHRoZSBMaWNlbnNlLgovLyBZb3UgbWF5IG9idGFpbiBhIGNvcHkgb2YgdGhlIExpY2Vuc2UgYXQKLy8KLy8gICAgICBodHRwOi8vd3d3LmFwYWNoZS5vcmcvbGljZW5zZXMvTElDRU5TRS0yLjAKLy8KLy8gVW5sZXNzIHJlcXVpcmVkIGJ5IGFwcGxpY2FibGUgbGF3IG9yIGFncmVlZCB0byBpbiB3cml0aW5nLCBzb2Z0d2FyZQovLyBkaXN0cmlidXRlZCB1bmRlciB0aGUgTGljZW5zZSBpcyBkaXN0cmlidXRlZCBvbiBhbiAiQVMgSVMiIEJBU0lTLAovLyBXSVRIT1VUIFdBUlJBTlRJRVMgT1IgQ09ORElUSU9OUyBPRiBBTlkgS0lORCwgZWl0aGVyIGV4cHJlc3Mgb3IgaW1wbGllZC4KLy8gU2VlIHRoZSBMaWNlbnNlIGZvciB0aGUgc3BlY2lmaWMgbGFuZ3VhZ2UgZ292ZXJuaW5nIHBlcm1pc3Npb25zIGFuZAovLyBsaW1pdGF0aW9ucyB1bmRlciB0aGUgTGljZW5zZS4KCi8qKgogKiBAZmlsZW92ZXJ2aWV3IEhlbHBlcnMgZm9yIGdvb2dsZS5jb2xhYiBQeXRob24gbW9kdWxlLgogKi8KKGZ1bmN0aW9uKHNjb3BlKSB7CmZ1bmN0aW9uIHNwYW4odGV4dCwgc3R5bGVBdHRyaWJ1dGVzID0ge30pIHsKICBjb25zdCBlbGVtZW50ID0gZG9jdW1lbnQuY3JlYXRlRWxlbWVudCgnc3BhbicpOwogIGVsZW1lbnQudGV4dENvbnRlbnQgPSB0ZXh0OwogIGZvciAoY29uc3Qga2V5IG9mIE9iamVjdC5rZXlzKHN0eWxlQXR0cmlidXRlcykpIHsKICAgIGVsZW1lbnQuc3R5bGVba2V5XSA9IHN0eWxlQXR0cmlidXRlc1trZXldOwogIH0KICByZXR1cm4gZWxlbWVudDsKfQoKLy8gTWF4IG51bWJlciBvZiBieXRlcyB3aGljaCB3aWxsIGJlIHVwbG9hZGVkIGF0IGEgdGltZS4KY29uc3QgTUFYX1BBWUxPQURfU0laRSA9IDEwMCAqIDEwMjQ7Ci8vIE1heCBhbW91bnQgb2YgdGltZSB0byBibG9jayB3YWl0aW5nIGZvciB0aGUgdXNlci4KY29uc3QgRklMRV9DSEFOR0VfVElNRU9VVF9NUyA9IDMwICogMTAwMDsKCmZ1bmN0aW9uIF91cGxvYWRGaWxlcyhpbnB1dElkLCBvdXRwdXRJZCkgewogIGNvbnN0IHN0ZXBzID0gdXBsb2FkRmlsZXNTdGVwKGlucHV0SWQsIG91dHB1dElkKTsKICBjb25zdCBvdXRwdXRFbGVtZW50ID0gZG9jdW1lbnQuZ2V0RWxlbWVudEJ5SWQob3V0cHV0SWQpOwogIC8vIENhY2hlIHN0ZXBzIG9uIHRoZSBvdXRwdXRFbGVtZW50IHRvIG1ha2UgaXQgYXZhaWxhYmxlIGZvciB0aGUgbmV4dCBjYWxsCiAgLy8gdG8gdXBsb2FkRmlsZXNDb250aW51ZSBmcm9tIFB5dGhvbi4KICBvdXRwdXRFbGVtZW50LnN0ZXBzID0gc3RlcHM7CgogIHJldHVybiBfdXBsb2FkRmlsZXNDb250aW51ZShvdXRwdXRJZCk7Cn0KCi8vIFRoaXMgaXMgcm91Z2hseSBhbiBhc3luYyBnZW5lcmF0b3IgKG5vdCBzdXBwb3J0ZWQgaW4gdGhlIGJyb3dzZXIgeWV0KSwKLy8gd2hlcmUgdGhlcmUgYXJlIG11bHRpcGxlIGFzeW5jaHJvbm91cyBzdGVwcyBhbmQgdGhlIFB5dGhvbiBzaWRlIGlzIGdvaW5nCi8vIHRvIHBvbGwgZm9yIGNvbXBsZXRpb24gb2YgZWFjaCBzdGVwLgovLyBUaGlzIHVzZXMgYSBQcm9taXNlIHRvIGJsb2NrIHRoZSBweXRob24gc2lkZSBvbiBjb21wbGV0aW9uIG9mIGVhY2ggc3RlcCwKLy8gdGhlbiBwYXNzZXMgdGhlIHJlc3VsdCBvZiB0aGUgcHJldmlvdXMgc3RlcCBhcyB0aGUgaW5wdXQgdG8gdGhlIG5leHQgc3RlcC4KZnVuY3Rpb24gX3VwbG9hZEZpbGVzQ29udGludWUob3V0cHV0SWQpIHsKICBjb25zdCBvdXRwdXRFbGVtZW50ID0gZG9jdW1lbnQuZ2V0RWxlbWVudEJ5SWQob3V0cHV0SWQpOwogIGNvbnN0IHN0ZXBzID0gb3V0cHV0RWxlbWVudC5zdGVwczsKCiAgY29uc3QgbmV4dCA9IHN0ZXBzLm5leHQob3V0cHV0RWxlbWVudC5sYXN0UHJvbWlzZVZhbHVlKTsKICByZXR1cm4gUHJvbWlzZS5yZXNvbHZlKG5leHQudmFsdWUucHJvbWlzZSkudGhlbigodmFsdWUpID0+IHsKICAgIC8vIENhY2hlIHRoZSBsYXN0IHByb21pc2UgdmFsdWUgdG8gbWFrZSBpdCBhdmFpbGFibGUgdG8gdGhlIG5leHQKICAgIC8vIHN0ZXAgb2YgdGhlIGdlbmVyYXRvci4KICAgIG91dHB1dEVsZW1lbnQubGFzdFByb21pc2VWYWx1ZSA9IHZhbHVlOwogICAgcmV0dXJuIG5leHQudmFsdWUucmVzcG9uc2U7CiAgfSk7Cn0KCi8qKgogKiBHZW5lcmF0b3IgZnVuY3Rpb24gd2hpY2ggaXMgY2FsbGVkIGJldHdlZW4gZWFjaCBhc3luYyBzdGVwIG9mIHRoZSB1cGxvYWQKICogcHJvY2Vzcy4KICogQHBhcmFtIHtzdHJpbmd9IGlucHV0SWQgRWxlbWVudCBJRCBvZiB0aGUgaW5wdXQgZmlsZSBwaWNrZXIgZWxlbWVudC4KICogQHBhcmFtIHtzdHJpbmd9IG91dHB1dElkIEVsZW1lbnQgSUQgb2YgdGhlIG91dHB1dCBkaXNwbGF5LgogKiBAcmV0dXJuIHshSXRlcmFibGU8IU9iamVjdD59IEl0ZXJhYmxlIG9mIG5leHQgc3RlcHMuCiAqLwpmdW5jdGlvbiogdXBsb2FkRmlsZXNTdGVwKGlucHV0SWQsIG91dHB1dElkKSB7CiAgY29uc3QgaW5wdXRFbGVtZW50ID0gZG9jdW1lbnQuZ2V0RWxlbWVudEJ5SWQoaW5wdXRJZCk7CiAgaW5wdXRFbGVtZW50LmRpc2FibGVkID0gZmFsc2U7CgogIGNvbnN0IG91dHB1dEVsZW1lbnQgPSBkb2N1bWVudC5nZXRFbGVtZW50QnlJZChvdXRwdXRJZCk7CiAgb3V0cHV0RWxlbWVudC5pbm5lckhUTUwgPSAnJzsKCiAgY29uc3QgcGlja2VkUHJvbWlzZSA9IG5ldyBQcm9taXNlKChyZXNvbHZlKSA9PiB7CiAgICBpbnB1dEVsZW1lbnQuYWRkRXZlbnRMaXN0ZW5lcignY2hhbmdlJywgKGUpID0+IHsKICAgICAgcmVzb2x2ZShlLnRhcmdldC5maWxlcyk7CiAgICB9KTsKICB9KTsKCiAgY29uc3QgY2FuY2VsID0gZG9jdW1lbnQuY3JlYXRlRWxlbWVudCgnYnV0dG9uJyk7CiAgaW5wdXRFbGVtZW50LnBhcmVudEVsZW1lbnQuYXBwZW5kQ2hpbGQoY2FuY2VsKTsKICBjYW5jZWwudGV4dENvbnRlbnQgPSAnQ2FuY2VsIHVwbG9hZCc7CiAgY29uc3QgY2FuY2VsUHJvbWlzZSA9IG5ldyBQcm9taXNlKChyZXNvbHZlKSA9PiB7CiAgICBjYW5jZWwub25jbGljayA9ICgpID0+IHsKICAgICAgcmVzb2x2ZShudWxsKTsKICAgIH07CiAgfSk7CgogIC8vIENhbmNlbCB1cGxvYWQgaWYgdXNlciBoYXNuJ3QgcGlja2VkIGFueXRoaW5nIGluIHRpbWVvdXQuCiAgY29uc3QgdGltZW91dFByb21pc2UgPSBuZXcgUHJvbWlzZSgocmVzb2x2ZSkgPT4gewogICAgc2V0VGltZW91dCgoKSA9PiB7CiAgICAgIHJlc29sdmUobnVsbCk7CiAgICB9LCBGSUxFX0NIQU5HRV9USU1FT1VUX01TKTsKICB9KTsKCiAgLy8gV2FpdCBmb3IgdGhlIHVzZXIgdG8gcGljayB0aGUgZmlsZXMuCiAgY29uc3QgZmlsZXMgPSB5aWVsZCB7CiAgICBwcm9taXNlOiBQcm9taXNlLnJhY2UoW3BpY2tlZFByb21pc2UsIHRpbWVvdXRQcm9taXNlLCBjYW5jZWxQcm9taXNlXSksCiAgICByZXNwb25zZTogewogICAgICBhY3Rpb246ICdzdGFydGluZycsCiAgICB9CiAgfTsKCiAgaWYgKCFmaWxlcykgewogICAgcmV0dXJuIHsKICAgICAgcmVzcG9uc2U6IHsKICAgICAgICBhY3Rpb246ICdjb21wbGV0ZScsCiAgICAgIH0KICAgIH07CiAgfQoKICBjYW5jZWwucmVtb3ZlKCk7CgogIC8vIERpc2FibGUgdGhlIGlucHV0IGVsZW1lbnQgc2luY2UgZnVydGhlciBwaWNrcyBhcmUgbm90IGFsbG93ZWQuCiAgaW5wdXRFbGVtZW50LmRpc2FibGVkID0gdHJ1ZTsKCiAgZm9yIChjb25zdCBmaWxlIG9mIGZpbGVzKSB7CiAgICBjb25zdCBsaSA9IGRvY3VtZW50LmNyZWF0ZUVsZW1lbnQoJ2xpJyk7CiAgICBsaS5hcHBlbmQoc3BhbihmaWxlLm5hbWUsIHtmb250V2VpZ2h0OiAnYm9sZCd9KSk7CiAgICBsaS5hcHBlbmQoc3BhbigKICAgICAgICBgKCR7ZmlsZS50eXBlIHx8ICduL2EnfSkgLSAke2ZpbGUuc2l6ZX0gYnl0ZXMsIGAgKwogICAgICAgIGBsYXN0IG1vZGlmaWVkOiAkewogICAgICAgICAgICBmaWxlLmxhc3RNb2RpZmllZERhdGUgPyBmaWxlLmxhc3RNb2RpZmllZERhdGUudG9Mb2NhbGVEYXRlU3RyaW5nKCkgOgogICAgICAgICAgICAgICAgICAgICAgICAgICAgICAgICAgICAnbi9hJ30gLSBgKSk7CiAgICBjb25zdCBwZXJjZW50ID0gc3BhbignMCUgZG9uZScpOwogICAgbGkuYXBwZW5kQ2hpbGQocGVyY2VudCk7CgogICAgb3V0cHV0RWxlbWVudC5hcHBlbmRDaGlsZChsaSk7CgogICAgY29uc3QgZmlsZURhdGFQcm9taXNlID0gbmV3IFByb21pc2UoKHJlc29sdmUpID0+IHsKICAgICAgY29uc3QgcmVhZGVyID0gbmV3IEZpbGVSZWFkZXIoKTsKICAgICAgcmVhZGVyLm9ubG9hZCA9IChlKSA9PiB7CiAgICAgICAgcmVzb2x2ZShlLnRhcmdldC5yZXN1bHQpOwogICAgICB9OwogICAgICByZWFkZXIucmVhZEFzQXJyYXlCdWZmZXIoZmlsZSk7CiAgICB9KTsKICAgIC8vIFdhaXQgZm9yIHRoZSBkYXRhIHRvIGJlIHJlYWR5LgogICAgbGV0IGZpbGVEYXRhID0geWllbGQgewogICAgICBwcm9taXNlOiBmaWxlRGF0YVByb21pc2UsCiAgICAgIHJlc3BvbnNlOiB7CiAgICAgICAgYWN0aW9uOiAnY29udGludWUnLAogICAgICB9CiAgICB9OwoKICAgIC8vIFVzZSBhIGNodW5rZWQgc2VuZGluZyB0byBhdm9pZCBtZXNzYWdlIHNpemUgbGltaXRzLiBTZWUgYi82MjExNTY2MC4KICAgIGxldCBwb3NpdGlvbiA9IDA7CiAgICB3aGlsZSAocG9zaXRpb24gPCBmaWxlRGF0YS5ieXRlTGVuZ3RoKSB7CiAgICAgIGNvbnN0IGxlbmd0aCA9IE1hdGgubWluKGZpbGVEYXRhLmJ5dGVMZW5ndGggLSBwb3NpdGlvbiwgTUFYX1BBWUxPQURfU0laRSk7CiAgICAgIGNvbnN0IGNodW5rID0gbmV3IFVpbnQ4QXJyYXkoZmlsZURhdGEsIHBvc2l0aW9uLCBsZW5ndGgpOwogICAgICBwb3NpdGlvbiArPSBsZW5ndGg7CgogICAgICBjb25zdCBiYXNlNjQgPSBidG9hKFN0cmluZy5mcm9tQ2hhckNvZGUuYXBwbHkobnVsbCwgY2h1bmspKTsKICAgICAgeWllbGQgewogICAgICAgIHJlc3BvbnNlOiB7CiAgICAgICAgICBhY3Rpb246ICdhcHBlbmQnLAogICAgICAgICAgZmlsZTogZmlsZS5uYW1lLAogICAgICAgICAgZGF0YTogYmFzZTY0LAogICAgICAgIH0sCiAgICAgIH07CiAgICAgIHBlcmNlbnQudGV4dENvbnRlbnQgPQogICAgICAgICAgYCR7TWF0aC5yb3VuZCgocG9zaXRpb24gLyBmaWxlRGF0YS5ieXRlTGVuZ3RoKSAqIDEwMCl9JSBkb25lYDsKICAgIH0KICB9CgogIC8vIEFsbCBkb25lLgogIHlpZWxkIHsKICAgIHJlc3BvbnNlOiB7CiAgICAgIGFjdGlvbjogJ2NvbXBsZXRlJywKICAgIH0KICB9Owp9CgpzY29wZS5nb29nbGUgPSBzY29wZS5nb29nbGUgfHwge307CnNjb3BlLmdvb2dsZS5jb2xhYiA9IHNjb3BlLmdvb2dsZS5jb2xhYiB8fCB7fTsKc2NvcGUuZ29vZ2xlLmNvbGFiLl9maWxlcyA9IHsKICBfdXBsb2FkRmlsZXMsCiAgX3VwbG9hZEZpbGVzQ29udGludWUsCn07Cn0pKHNlbGYpOwo=",
              "ok": true,
              "headers": [
                [
                  "content-type",
                  "application/javascript"
                ]
              ],
              "status": 200,
              "status_text": ""
            }
          },
          "base_uri": "https://localhost:8080/",
          "height": 75
        }
      },
      "source": [
        "# Upload kaggle API key file\n",
        "data = files.upload()"
      ],
      "execution_count": 0,
      "outputs": [
        {
          "output_type": "display_data",
          "data": {
            "text/html": [
              "\n",
              "     <input type=\"file\" id=\"files-abe92fb5-adbe-4cc6-9928-803ea8cbd1d3\" name=\"files[]\" multiple disabled />\n",
              "     <output id=\"result-abe92fb5-adbe-4cc6-9928-803ea8cbd1d3\">\n",
              "      Upload widget is only available when the cell has been executed in the\n",
              "      current browser session. Please rerun this cell to enable.\n",
              "      </output>\n",
              "      <script src=\"/nbextensions/google.colab/files.js\"></script> "
            ],
            "text/plain": [
              "<IPython.core.display.HTML object>"
            ]
          },
          "metadata": {
            "tags": []
          }
        },
        {
          "output_type": "stream",
          "text": [
            "Saving kaggle.json to kaggle.json\n"
          ],
          "name": "stdout"
        }
      ]
    },
    {
      "cell_type": "code",
      "metadata": {
        "id": "pVzLW_x7Xyxw",
        "colab_type": "code",
        "colab": {}
      },
      "source": [
        "!mkdir -p ~/.kaggle\n",
        "!cp kaggle.json ~/.kaggle/\n",
        "!chmod 600 ~/.kaggle/kaggle.json"
      ],
      "execution_count": 0,
      "outputs": []
    },
    {
      "cell_type": "code",
      "metadata": {
        "id": "s5MULrocX4F8",
        "colab_type": "code",
        "outputId": "1eadffbb-5b51-418a-d34f-8185baa8e626",
        "colab": {
          "base_uri": "https://localhost:8080/",
          "height": 69
        }
      },
      "source": [
        "# Download the dataset from kaggle\n",
        "!kaggle datasets download -d frabbisw/facial-age"
      ],
      "execution_count": 0,
      "outputs": [
        {
          "output_type": "stream",
          "text": [
            "Downloading facial-age.zip to /content\n",
            "100% 840M/840M [00:13<00:00, 75.6MB/s]\n",
            "100% 840M/840M [00:13<00:00, 63.9MB/s]\n"
          ],
          "name": "stdout"
        }
      ]
    },
    {
      "cell_type": "code",
      "metadata": {
        "id": "h2xD-L9WYAAj",
        "colab_type": "code",
        "colab": {}
      },
      "source": [
        "# Extract zipfile\n",
        "import zipfile\n",
        "zip_ref = zipfile.ZipFile('facial-age.zip', 'r')\n",
        "zip_ref.extractall('files')\n",
        "zip_ref.close()"
      ],
      "execution_count": 0,
      "outputs": []
    },
    {
      "cell_type": "code",
      "metadata": {
        "id": "NwN5ZMFWYVje",
        "colab_type": "code",
        "colab": {}
      },
      "source": [
        "# Remove unused classes and duplicated folder\n",
        "!rm -rf /content/files/face_age/100\n",
        "!rm -rf /content/files/face_age/101\n",
        "!rm -rf /content/files/face_age/110\n",
        "!rm -rf /content/files/face_age/face_age"
      ],
      "execution_count": 0,
      "outputs": []
    },
    {
      "cell_type": "code",
      "metadata": {
        "id": "qF1iQrerY8Wd",
        "colab_type": "code",
        "colab": {}
      },
      "source": [
        "# Modules for train-val split\n",
        "import os\n",
        "import numpy as np\n",
        "import random\n",
        "import argparse\n",
        "from shutil import copyfile"
      ],
      "execution_count": 0,
      "outputs": []
    },
    {
      "cell_type": "code",
      "metadata": {
        "id": "M0IkpUc4aE7T",
        "colab_type": "code",
        "colab": {}
      },
      "source": [
        "# Train-val split function\n",
        "def img_train_test_split(img_source_dir, train_size):\n",
        "    \"\"\"\n",
        "    Randomly splits images over a train and validation folder, while preserving the folder structure\n",
        "    \n",
        "    Parameters\n",
        "    ----------\n",
        "    img_source_dir : string\n",
        "        Path to the folder with the images to be split. Can be absolute or relative path   \n",
        "        \n",
        "    train_size : float\n",
        "        Proportion of the original images that need to be copied in the subdirectory in the train folder\n",
        "    \"\"\"    \n",
        "    if not (isinstance(img_source_dir, str)):\n",
        "        raise AttributeError('img_source_dir must be a string')\n",
        "        \n",
        "    if not os.path.exists(img_source_dir):\n",
        "        raise OSError('img_source_dir does not exist')\n",
        "        \n",
        "    if not (isinstance(train_size, float)):\n",
        "        raise AttributeError('train_size must be a float')\n",
        "        \n",
        "    # Set up empty folder structure if not exists\n",
        "    if not os.path.exists('data'):\n",
        "        os.makedirs('data')\n",
        "    else:\n",
        "        if not os.path.exists('data/train'):\n",
        "            os.makedirs('data/train')\n",
        "        if not os.path.exists('data/validation'):\n",
        "            os.makedirs('data/validation')\n",
        "            \n",
        "    # Get the subdirectories in the main image folder\n",
        "    subdirs = [subdir for subdir in os.listdir(img_source_dir) if os.path.isdir(os.path.join(img_source_dir, subdir))]\n",
        "\n",
        "    for subdir in subdirs:\n",
        "        subdir_fullpath = os.path.join(img_source_dir, subdir)\n",
        "        if len(os.listdir(subdir_fullpath)) == 0:\n",
        "            print(subdir_fullpath + ' is empty')\n",
        "            break\n",
        "\n",
        "        train_subdir = os.path.join('data/train', subdir)\n",
        "        validation_subdir = os.path.join('data/validation', subdir)\n",
        "\n",
        "        # Create subdirectories in train and validation folders\n",
        "        if not os.path.exists(train_subdir):\n",
        "            os.makedirs(train_subdir)\n",
        "\n",
        "        if not os.path.exists(validation_subdir):\n",
        "            os.makedirs(validation_subdir)\n",
        "\n",
        "        train_counter = 0\n",
        "        validation_counter = 0\n",
        "\n",
        "        # Randomly assign an image to train or validation folder\n",
        "        for filename in os.listdir(subdir_fullpath):\n",
        "            if filename.endswith(\".jpg\") or filename.endswith(\".png\"): \n",
        "                fileparts = filename.split('.')\n",
        "\n",
        "                if random.uniform(0, 1) <= train_size:\n",
        "                    copyfile(os.path.join(subdir_fullpath, filename), os.path.join(train_subdir, str(train_counter) + '.' + fileparts[1]))\n",
        "                    train_counter += 1\n",
        "                else:\n",
        "                    copyfile(os.path.join(subdir_fullpath, filename), os.path.join(validation_subdir, str(validation_counter) + '.' + fileparts[1]))\n",
        "                    validation_counter += 1\n",
        "                    \n",
        "        print('Copied ' + str(train_counter) + ' images to data/train/' + subdir)\n",
        "        print('Copied ' + str(validation_counter) + ' images to data/validation/' + subdir)"
      ],
      "execution_count": 0,
      "outputs": []
    },
    {
      "cell_type": "code",
      "metadata": {
        "id": "qYjKOdIfaKba",
        "colab_type": "code",
        "outputId": "40115ac8-af17-4ccf-dfbc-e5d0a0e44078",
        "colab": {
          "base_uri": "https://localhost:8080/",
          "height": 1000
        }
      },
      "source": [
        "# Run the split function\n",
        "img_train_test_split('/content/files/face_age',0.5)"
      ],
      "execution_count": 0,
      "outputs": [
        {
          "output_type": "stream",
          "text": [
            "Copied 41 images to data/train/034\n",
            "Copied 46 images to data/validation/034\n",
            "Copied 60 images to data/train/050\n",
            "Copied 45 images to data/validation/050\n",
            "Copied 10 images to data/train/077\n",
            "Copied 9 images to data/validation/077\n",
            "Copied 34 images to data/train/041\n",
            "Copied 22 images to data/validation/041\n",
            "Copied 46 images to data/train/049\n",
            "Copied 53 images to data/validation/049\n",
            "Copied 45 images to data/train/017\n",
            "Copied 58 images to data/validation/017\n",
            "Copied 76 images to data/train/025\n",
            "Copied 80 images to data/validation/025\n",
            "Copied 66 images to data/train/010\n",
            "Copied 74 images to data/validation/010\n",
            "Copied 53 images to data/train/065\n",
            "Copied 60 images to data/validation/065\n",
            "Copied 75 images to data/train/014\n",
            "Copied 62 images to data/validation/014\n",
            "Copied 60 images to data/train/035\n",
            "Copied 61 images to data/validation/035\n",
            "Copied 143 images to data/train/003\n",
            "Copied 141 images to data/validation/003\n",
            "Copied 25 images to data/train/070\n",
            "Copied 28 images to data/validation/070\n",
            "Copied 14 images to data/train/078\n",
            "Copied 16 images to data/validation/078\n",
            "Copied 108 images to data/train/016\n",
            "Copied 104 images to data/validation/016\n",
            "Copied 19 images to data/train/069\n",
            "Copied 26 images to data/validation/069\n",
            "Copied 8 images to data/train/088\n",
            "Copied 9 images to data/validation/088\n",
            "Copied 3 images to data/train/084\n",
            "Copied 8 images to data/validation/084\n",
            "Copied 125 images to data/train/008\n",
            "Copied 111 images to data/validation/008\n",
            "Copied 12 images to data/train/044\n",
            "Copied 15 images to data/validation/044\n",
            "Copied 44 images to data/train/040\n",
            "Copied 41 images to data/validation/040\n",
            "Copied 37 images to data/train/037\n",
            "Copied 57 images to data/validation/037\n",
            "Copied 73 images to data/train/060\n",
            "Copied 64 images to data/validation/060\n",
            "Copied 68 images to data/train/085\n",
            "Copied 62 images to data/validation/085\n",
            "Copied 66 images to data/train/022\n",
            "Copied 73 images to data/validation/022\n",
            "Copied 2 images to data/train/087\n",
            "Copied 2 images to data/validation/087\n",
            "Copied 67 images to data/train/053\n",
            "Copied 66 images to data/validation/053\n",
            "Copied 27 images to data/train/046\n",
            "Copied 34 images to data/validation/046\n",
            "Copied 8 images to data/train/089\n",
            "Copied 8 images to data/validation/089\n",
            "Copied 17 images to data/train/076\n",
            "Copied 18 images to data/validation/076\n",
            "Copied 16 images to data/train/064\n",
            "Copied 13 images to data/validation/064\n",
            "Copied 83 images to data/train/005\n",
            "Copied 97 images to data/validation/005\n",
            "Copied 44 images to data/train/075\n",
            "Copied 43 images to data/validation/075\n",
            "Copied 34 images to data/train/080\n",
            "Copied 37 images to data/validation/080\n",
            "Copied 53 images to data/train/036\n",
            "Copied 59 images to data/validation/036\n",
            "Copied 30 images to data/train/063\n",
            "Copied 17 images to data/validation/063\n",
            "Copied 545 images to data/train/001\n",
            "Copied 567 images to data/validation/001\n",
            "Copied 90 images to data/train/024\n",
            "Copied 101 images to data/validation/024\n",
            "Copied 74 images to data/train/056\n",
            "Copied 58 images to data/validation/056\n",
            "Copied 137 images to data/train/026\n",
            "Copied 142 images to data/validation/026\n",
            "Copied 35 images to data/train/057\n",
            "Copied 25 images to data/validation/057\n",
            "Copied 1 images to data/train/091\n",
            "Copied 0 images to data/validation/091\n",
            "Copied 8 images to data/train/081\n",
            "Copied 2 images to data/validation/081\n",
            "Copied 25 images to data/train/068\n",
            "Copied 33 images to data/validation/068\n",
            "Copied 14 images to data/train/082\n",
            "Copied 15 images to data/validation/082\n",
            "Copied 59 images to data/train/052\n",
            "Copied 74 images to data/validation/052\n",
            "Copied 30 images to data/train/066\n",
            "Copied 24 images to data/validation/066\n",
            "Copied 72 images to data/train/029\n",
            "Copied 78 images to data/validation/029\n",
            "Copied 72 images to data/train/039\n",
            "Copied 64 images to data/validation/039\n",
            "Copied 21 images to data/train/033\n",
            "Copied 25 images to data/validation/033\n",
            "Copied 36 images to data/train/042\n",
            "Copied 48 images to data/validation/042\n",
            "Copied 2 images to data/train/083\n",
            "Copied 5 images to data/validation/083\n",
            "Copied 90 images to data/train/018\n",
            "Copied 91 images to data/validation/018\n",
            "Copied 21 images to data/train/043\n",
            "Copied 31 images to data/validation/043\n",
            "Copied 71 images to data/train/021\n",
            "Copied 65 images to data/validation/021\n",
            "Copied 22 images to data/train/055\n",
            "Copied 30 images to data/validation/055\n",
            "Copied 22 images to data/train/090\n",
            "Copied 33 images to data/validation/090\n",
            "Copied 73 images to data/train/028\n",
            "Copied 72 images to data/validation/028\n",
            "Copied 35 images to data/train/038\n",
            "Copied 56 images to data/validation/038\n",
            "Copied 10 images to data/train/071\n",
            "Copied 12 images to data/validation/071\n",
            "Copied 1 images to data/train/099\n",
            "Copied 1 images to data/validation/099\n",
            "Copied 0 images to data/train/093\n",
            "Copied 3 images to data/validation/093\n",
            "Copied 51 images to data/train/054\n",
            "Copied 55 images to data/validation/054\n",
            "Copied 26 images to data/train/019\n",
            "Copied 32 images to data/validation/019\n",
            "Copied 66 images to data/train/027\n",
            "Copied 60 images to data/validation/027\n",
            "Copied 33 images to data/train/013\n",
            "Copied 42 images to data/validation/013\n",
            "Copied 59 images to data/train/007\n",
            "Copied 67 images to data/validation/007\n",
            "Copied 35 images to data/train/072\n",
            "Copied 35 images to data/validation/072\n",
            "Copied 27 images to data/train/061\n",
            "Copied 23 images to data/validation/061\n",
            "Copied 5 images to data/train/079\n",
            "Copied 11 images to data/validation/079\n",
            "Copied 29 images to data/train/059\n",
            "Copied 30 images to data/validation/059\n",
            "Copied 5 images to data/train/092\n",
            "Copied 8 images to data/validation/092\n",
            "Copied 16 images to data/train/067\n",
            "Copied 31 images to data/validation/067\n",
            "Copied 128 images to data/train/004\n",
            "Copied 132 images to data/validation/004\n",
            "Copied 35 images to data/train/047\n",
            "Copied 35 images to data/validation/047\n",
            "Copied 38 images to data/train/045\n",
            "Copied 39 images to data/validation/045\n",
            "Copied 9 images to data/train/074\n",
            "Copied 7 images to data/validation/074\n",
            "Copied 221 images to data/train/002\n",
            "Copied 254 images to data/validation/002\n",
            "Copied 72 images to data/train/032\n",
            "Copied 69 images to data/validation/032\n",
            "Copied 7 images to data/train/096\n",
            "Copied 9 images to data/validation/096\n",
            "Copied 65 images to data/train/015\n",
            "Copied 78 images to data/validation/015\n",
            "Copied 2 images to data/train/095\n",
            "Copied 1 images to data/validation/095\n",
            "Copied 37 images to data/train/062\n",
            "Copied 39 images to data/validation/062\n",
            "Copied 32 images to data/train/048\n",
            "Copied 32 images to data/validation/048\n",
            "Copied 57 images to data/train/006\n",
            "Copied 57 images to data/validation/006\n",
            "Copied 17 images to data/train/073\n",
            "Copied 14 images to data/validation/073\n",
            "Copied 83 images to data/train/009\n",
            "Copied 76 images to data/validation/009\n",
            "Copied 10 images to data/train/086\n",
            "Copied 12 images to data/validation/086\n",
            "Copied 51 images to data/train/030\n",
            "Copied 58 images to data/validation/030\n",
            "Copied 32 images to data/train/011\n",
            "Copied 31 images to data/validation/011\n",
            "Copied 48 images to data/train/058\n",
            "Copied 48 images to data/validation/058\n",
            "Copied 51 images to data/train/012\n",
            "Copied 55 images to data/validation/012\n",
            "Copied 51 images to data/train/020\n",
            "Copied 52 images to data/validation/020\n",
            "Copied 59 images to data/train/031\n",
            "Copied 38 images to data/validation/031\n",
            "Copied 46 images to data/train/023\n",
            "Copied 46 images to data/validation/023\n",
            "Copied 31 images to data/train/051\n",
            "Copied 31 images to data/validation/051\n"
          ],
          "name": "stdout"
        }
      ]
    },
    {
      "cell_type": "code",
      "metadata": {
        "id": "mhMOXYvCaO7L",
        "colab_type": "code",
        "colab": {}
      },
      "source": [
        "# Modules for model creation\n",
        "import tensorflow as tf\n",
        "from tensorflow.keras.optimizers import RMSprop\n",
        "from tensorflow.keras.preprocessing.image import ImageDataGenerator"
      ],
      "execution_count": 0,
      "outputs": []
    },
    {
      "cell_type": "code",
      "metadata": {
        "id": "8HdGfCGQa-0S",
        "colab_type": "code",
        "colab": {}
      },
      "source": [
        "# Create the model\n",
        "model = tf.keras.models.Sequential([\n",
        "    tf.keras.layers.Conv2D(16, (3, 3), activation='relu', input_shape=(150, 150, 3)),\n",
        "    tf.keras.layers.MaxPooling2D(2, 2),\n",
        "    tf.keras.layers.Conv2D(32, (3, 3), activation='relu'),\n",
        "    tf.keras.layers.MaxPooling2D(2, 2),\n",
        "    tf.keras.layers.Conv2D(64, (3, 3), activation='relu'),\n",
        "    tf.keras.layers.MaxPooling2D(2, 2),\n",
        "    tf.keras.layers.Flatten(),\n",
        "    tf.keras.layers.Dense(512, activation='relu'),\n",
        "    tf.keras.layers.Dense(96, activation='sigmoid')\n",
        "])\n",
        "\n",
        "model.compile(optimizer=RMSprop(lr=0.001), loss='categorical_crossentropy', metrics=['accuracy'])"
      ],
      "execution_count": 0,
      "outputs": []
    },
    {
      "cell_type": "code",
      "metadata": {
        "id": "rjXSbDGvbMAF",
        "colab_type": "code",
        "outputId": "58d208b3-fbd0-4858-f989-37fee077b818",
        "colab": {
          "base_uri": "https://localhost:8080/",
          "height": 52
        }
      },
      "source": [
        "# Label generator\n",
        "TRAINING_DIR = \"/content/data/train/\"\n",
        "train_datagen = ImageDataGenerator(rescale=1.0/255.)\n",
        "train_generator = train_datagen.flow_from_directory(TRAINING_DIR,\n",
        "                                                    batch_size=100,\n",
        "                                                    class_mode='categorical',\n",
        "                                                    target_size=(150, 150))\n",
        "\n",
        "VALIDATION_DIR = \"/content/data/validation/\"\n",
        "validation_datagen = ImageDataGenerator(rescale=1.0/255.)\n",
        "validation_generator = validation_datagen.flow_from_directory(VALIDATION_DIR,\n",
        "                                                              batch_size=100,\n",
        "                                                              class_mode='categorical',\n",
        "                                                              target_size=(150, 150))"
      ],
      "execution_count": 0,
      "outputs": [
        {
          "output_type": "stream",
          "text": [
            "Found 4792 images belonging to 96 classes.\n",
            "Found 4981 images belonging to 96 classes.\n"
          ],
          "name": "stdout"
        }
      ]
    },
    {
      "cell_type": "code",
      "metadata": {
        "id": "YqWrVhlNbgKX",
        "colab_type": "code",
        "outputId": "ea23eb12-392d-4a89-bbfd-7a32c0338c6e",
        "colab": {
          "base_uri": "https://localhost:8080/",
          "height": 1000
        }
      },
      "source": [
        "# Fit the model\n",
        "history = model.fit(train_generator,\n",
        "                              epochs=30,\n",
        "                              verbose=1,\n",
        "                              validation_data=validation_generator)"
      ],
      "execution_count": 0,
      "outputs": [
        {
          "output_type": "stream",
          "text": [
            "Epoch 1/30\n",
            "48/48 [==============================] - 135s 3s/step - loss: 4.2245 - accuracy: 0.1137 - val_loss: 4.1754 - val_accuracy: 0.1138\n",
            "Epoch 2/30\n",
            "48/48 [==============================] - 135s 3s/step - loss: 3.8018 - accuracy: 0.1275 - val_loss: 3.7566 - val_accuracy: 0.1331\n",
            "Epoch 3/30\n",
            "48/48 [==============================] - 136s 3s/step - loss: 3.3078 - accuracy: 0.1836 - val_loss: 3.6936 - val_accuracy: 0.1480\n",
            "Epoch 4/30\n",
            "48/48 [==============================] - 138s 3s/step - loss: 2.8866 - accuracy: 0.2350 - val_loss: 3.6527 - val_accuracy: 0.1578\n",
            "Epoch 5/30\n",
            "48/48 [==============================] - 135s 3s/step - loss: 2.4024 - accuracy: 0.3341 - val_loss: 3.9361 - val_accuracy: 0.1678\n",
            "Epoch 6/30\n",
            "48/48 [==============================] - 135s 3s/step - loss: 1.8750 - accuracy: 0.4691 - val_loss: 4.2499 - val_accuracy: 0.1554\n",
            "Epoch 7/30\n",
            "48/48 [==============================] - 135s 3s/step - loss: 1.3895 - accuracy: 0.6039 - val_loss: 4.4881 - val_accuracy: 0.1309\n",
            "Epoch 8/30\n",
            "48/48 [==============================] - 140s 3s/step - loss: 0.9561 - accuracy: 0.7302 - val_loss: 5.5310 - val_accuracy: 0.1574\n",
            "Epoch 9/30\n",
            "48/48 [==============================] - 135s 3s/step - loss: 0.6410 - accuracy: 0.8216 - val_loss: 6.0436 - val_accuracy: 0.1550\n",
            "Epoch 10/30\n",
            "48/48 [==============================] - 135s 3s/step - loss: 0.4251 - accuracy: 0.8854 - val_loss: 6.7115 - val_accuracy: 0.1550\n",
            "Epoch 11/30\n",
            "48/48 [==============================] - 135s 3s/step - loss: 0.3406 - accuracy: 0.9105 - val_loss: 7.2376 - val_accuracy: 0.1616\n",
            "Epoch 12/30\n",
            "48/48 [==============================] - 135s 3s/step - loss: 0.2384 - accuracy: 0.9320 - val_loss: 7.9513 - val_accuracy: 0.1156\n",
            "Epoch 13/30\n",
            "48/48 [==============================] - 138s 3s/step - loss: 0.2157 - accuracy: 0.9401 - val_loss: 7.7356 - val_accuracy: 0.1612\n",
            "Epoch 14/30\n",
            "48/48 [==============================] - 139s 3s/step - loss: 0.2168 - accuracy: 0.9505 - val_loss: 7.5324 - val_accuracy: 0.1568\n",
            "Epoch 15/30\n",
            "48/48 [==============================] - 139s 3s/step - loss: 0.1692 - accuracy: 0.9512 - val_loss: 8.1907 - val_accuracy: 0.1526\n",
            "Epoch 16/30\n",
            "48/48 [==============================] - 138s 3s/step - loss: 0.1114 - accuracy: 0.9668 - val_loss: 8.4074 - val_accuracy: 0.1508\n",
            "Epoch 17/30\n",
            "48/48 [==============================] - 143s 3s/step - loss: 0.1327 - accuracy: 0.9616 - val_loss: 8.2646 - val_accuracy: 0.1433\n",
            "Epoch 18/30\n",
            "48/48 [==============================] - 136s 3s/step - loss: 0.1121 - accuracy: 0.9731 - val_loss: 9.1010 - val_accuracy: 0.1600\n",
            "Epoch 19/30\n",
            "48/48 [==============================] - 135s 3s/step - loss: 0.1101 - accuracy: 0.9704 - val_loss: 8.4809 - val_accuracy: 0.1548\n",
            "Epoch 20/30\n",
            "48/48 [==============================] - 135s 3s/step - loss: 0.1044 - accuracy: 0.9699 - val_loss: 8.4364 - val_accuracy: 0.1592\n",
            "Epoch 21/30\n",
            "48/48 [==============================] - 139s 3s/step - loss: 0.0890 - accuracy: 0.9731 - val_loss: 8.6163 - val_accuracy: 0.1550\n",
            "Epoch 22/30\n",
            "48/48 [==============================] - 135s 3s/step - loss: 0.0804 - accuracy: 0.9770 - val_loss: 8.0244 - val_accuracy: 0.1441\n",
            "Epoch 23/30\n",
            "48/48 [==============================] - 135s 3s/step - loss: 0.0901 - accuracy: 0.9795 - val_loss: 8.1714 - val_accuracy: 0.1514\n",
            "Epoch 24/30\n",
            "48/48 [==============================] - 135s 3s/step - loss: 0.0704 - accuracy: 0.9825 - val_loss: 8.4915 - val_accuracy: 0.1494\n",
            "Epoch 25/30\n",
            "48/48 [==============================] - 134s 3s/step - loss: 0.0931 - accuracy: 0.9779 - val_loss: 8.4327 - val_accuracy: 0.1520\n",
            "Epoch 26/30\n",
            "48/48 [==============================] - 138s 3s/step - loss: 0.0824 - accuracy: 0.9802 - val_loss: 8.4235 - val_accuracy: 0.1494\n",
            "Epoch 27/30\n",
            "48/48 [==============================] - 134s 3s/step - loss: 0.0970 - accuracy: 0.9764 - val_loss: 8.5225 - val_accuracy: 0.1488\n",
            "Epoch 28/30\n",
            "48/48 [==============================] - 135s 3s/step - loss: 0.0626 - accuracy: 0.9825 - val_loss: 8.8454 - val_accuracy: 0.1413\n",
            "Epoch 29/30\n",
            "48/48 [==============================] - 135s 3s/step - loss: 0.0726 - accuracy: 0.9804 - val_loss: 8.9142 - val_accuracy: 0.1576\n",
            "Epoch 30/30\n",
            "48/48 [==============================] - 138s 3s/step - loss: 0.0513 - accuracy: 0.9846 - val_loss: 9.0602 - val_accuracy: 0.1542\n"
          ],
          "name": "stdout"
        }
      ]
    },
    {
      "cell_type": "code",
      "metadata": {
        "id": "inamPQ9rUECY",
        "colab_type": "code",
        "outputId": "07a992de-47d2-4fa8-adae-d631e0c9b0ff",
        "colab": {
          "base_uri": "https://localhost:8080/",
          "height": 580
        }
      },
      "source": [
        "%matplotlib inline\n",
        "\n",
        "import matplotlib.image  as mpimg\n",
        "import matplotlib.pyplot as plt\n",
        "\n",
        "#-----------------------------------------------------------\n",
        "# Retrieve a list of list results on training and test data\n",
        "# sets for each training epoch\n",
        "#-----------------------------------------------------------\n",
        "acc=history.history['accuracy']\n",
        "val_acc=history.history['val_accuracy']\n",
        "loss=history.history['loss']\n",
        "val_loss=history.history['val_loss']\n",
        "\n",
        "epochs=range(len(acc)) # Get number of epochs\n",
        "\n",
        "#------------------------------------------------\n",
        "# Plot training and validation accuracy per epoch\n",
        "#------------------------------------------------\n",
        "plt.plot(epochs, acc, 'r', label = 'Training accuracy')\n",
        "plt.plot(epochs, val_acc, 'b', label ='Validation accuracy')\n",
        "plt.title('Training and validation accuracy')\n",
        "plt.legend()\n",
        "plt.figure()\n",
        "\n",
        "#------------------------------------------------\n",
        "# Plot training and validation loss per epoch\n",
        "#------------------------------------------------\n",
        "plt.plot(epochs, loss, 'r', label = 'Training loss')\n",
        "plt.plot(epochs, val_loss, 'b', label = 'Validation loss')\n",
        "plt.title('Training and validation loss')\n",
        "plt.legend()\n",
        "plt.figure()"
      ],
      "execution_count": 0,
      "outputs": [
        {
          "output_type": "execute_result",
          "data": {
            "text/plain": [
              "<Figure size 432x288 with 0 Axes>"
            ]
          },
          "metadata": {
            "tags": []
          },
          "execution_count": 53
        },
        {
          "output_type": "display_data",
          "data": {
            "image/png": "[encoded data removed]",
            "text/plain": [
              "<Figure size 432x288 with 1 Axes>"
            ]
          },
          "metadata": {
            "tags": [],
            "needs_background": "light"
          }
        },
        {
          "output_type": "display_data",
          "data": {
            "image/png": "[encoded data removed]",
            "text/plain": [
              "<Figure size 432x288 with 1 Axes>"
            ]
          },
          "metadata": {
            "tags": [],
            "needs_background": "light"
          }
        },
        {
          "output_type": "display_data",
          "data": {
            "text/plain": [
              "<Figure size 432x288 with 0 Axes>"
            ]
          },
          "metadata": {
            "tags": []
          }
        }
      ]
    }
  ]
}